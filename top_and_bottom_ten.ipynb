{
 "cells": [
  {
   "cell_type": "code",
   "execution_count": 87,
   "id": "8131654e",
   "metadata": {},
   "outputs": [],
   "source": [
    "import pandas as pd\n",
    "import sqlite3\n",
    "\n",
    "conn2 = sqlite3.connect('data_files/lessons.db')\n",
    "df = pd.read_sql('SELECT * FROM lessons', conn2)\n",
    "conn2.close()"
   ]
  },
  {
   "cell_type": "code",
   "execution_count": 88,
   "id": "4b0bddd2",
   "metadata": {},
   "outputs": [],
   "source": [
    "def place(df, t=0, cond=0):\n",
    "    \n",
    "    lesson = df.copy()\n",
    "    rep = int(lesson.loc[:, \"known\"][-1:].values[0])\n",
    "    print(rep)\n",
    "    if rep != 25:\n",
    "        mod_lesson = lesson[lesson.known != 25]\n",
    "    else:\n",
    "        mod_lesson = lesson[lesson.known == 25]\n",
    "\n",
    "    if cond == 0:\n",
    "\n",
    "        last = mod_lesson.loc[:, \"r\"][-1:].values[0]\n",
    "        last_points = mod_lesson.loc[:, \"points\"][-1:].values[0]\n",
    "        last_lesson = mod_lesson.tail(1)  # Extract the last row\n",
    "\n",
    "        mod_lesson = mod_lesson.sort_values(by='points', ascending=False, ignore_index=True)\n",
    "        place = mod_lesson[mod_lesson['points'] == last_points].index[0] + 1\n",
    "        last_lesson['Place'] = place\n",
    "\n",
    "        best_lessons = mod_lesson.head(10)\n",
    "        best_lessons = best_lessons.reset_index()\n",
    "        best_lessons = best_lessons.rename(columns={'index': 'Place'})\n",
    "        best_lessons['Place'] = best_lessons['Place'] + 1\n",
    "\n",
    "        if last not in best_lessons['r'].values:\n",
    "            final_result = pd.concat([best_lessons, last_lesson], ignore_index=True)\n",
    "        else:\n",
    "            final_result = best_lessons\n",
    "\n",
    "        final_result = final_result.loc[:, ['r', 'time', 'points', 'Place']]\n",
    "        final_result = final_result.rename(columns={'r': 'Lesson', 'time': 'Time', 'points': 'Pts'})\n",
    "        final_result['Place'] = final_result['Place'].astype(int)\n",
    "        final_result['Lesson'] = final_result['Lesson'].astype(str)\n",
    "        final_result['Lesson'] = 'Lesson ' + final_result['Lesson']\n",
    "\n",
    "        return final_result"
   ]
  },
  {
   "cell_type": "code",
   "execution_count": 89,
   "id": "9fe45350",
   "metadata": {},
   "outputs": [
    {
     "name": "stdout",
     "output_type": "stream",
     "text": [
      "25\n"
     ]
    },
    {
     "data": {
      "text/html": [
       "<div>\n",
       "<style scoped>\n",
       "    .dataframe tbody tr th:only-of-type {\n",
       "        vertical-align: middle;\n",
       "    }\n",
       "\n",
       "    .dataframe tbody tr th {\n",
       "        vertical-align: top;\n",
       "    }\n",
       "\n",
       "    .dataframe thead th {\n",
       "        text-align: right;\n",
       "    }\n",
       "</style>\n",
       "<table border=\"1\" class=\"dataframe\">\n",
       "  <thead>\n",
       "    <tr style=\"text-align: right;\">\n",
       "      <th></th>\n",
       "      <th>Lesson</th>\n",
       "      <th>Time</th>\n",
       "      <th>Pts</th>\n",
       "      <th>Place</th>\n",
       "    </tr>\n",
       "  </thead>\n",
       "  <tbody>\n",
       "    <tr>\n",
       "      <th>0</th>\n",
       "      <td>Lesson 7</td>\n",
       "      <td>183</td>\n",
       "      <td>1817</td>\n",
       "      <td>1</td>\n",
       "    </tr>\n",
       "    <tr>\n",
       "      <th>1</th>\n",
       "      <td>Lesson 7</td>\n",
       "      <td>188</td>\n",
       "      <td>1757</td>\n",
       "      <td>2</td>\n",
       "    </tr>\n",
       "    <tr>\n",
       "      <th>2</th>\n",
       "      <td>Lesson 183</td>\n",
       "      <td>277</td>\n",
       "      <td>1664</td>\n",
       "      <td>3</td>\n",
       "    </tr>\n",
       "    <tr>\n",
       "      <th>3</th>\n",
       "      <td>Lesson 191</td>\n",
       "      <td>280</td>\n",
       "      <td>1657</td>\n",
       "      <td>4</td>\n",
       "    </tr>\n",
       "    <tr>\n",
       "      <th>4</th>\n",
       "      <td>Lesson 191</td>\n",
       "      <td>288</td>\n",
       "      <td>1648</td>\n",
       "      <td>5</td>\n",
       "    </tr>\n",
       "    <tr>\n",
       "      <th>5</th>\n",
       "      <td>Lesson 188</td>\n",
       "      <td>323</td>\n",
       "      <td>1604</td>\n",
       "      <td>6</td>\n",
       "    </tr>\n",
       "    <tr>\n",
       "      <th>6</th>\n",
       "      <td>Lesson 189</td>\n",
       "      <td>335</td>\n",
       "      <td>1591</td>\n",
       "      <td>7</td>\n",
       "    </tr>\n",
       "    <tr>\n",
       "      <th>7</th>\n",
       "      <td>Lesson 16</td>\n",
       "      <td>407</td>\n",
       "      <td>1577</td>\n",
       "      <td>8</td>\n",
       "    </tr>\n",
       "    <tr>\n",
       "      <th>8</th>\n",
       "      <td>Lesson 6</td>\n",
       "      <td>405</td>\n",
       "      <td>1576</td>\n",
       "      <td>9</td>\n",
       "    </tr>\n",
       "    <tr>\n",
       "      <th>9</th>\n",
       "      <td>Lesson 190</td>\n",
       "      <td>363</td>\n",
       "      <td>1571</td>\n",
       "      <td>10</td>\n",
       "    </tr>\n",
       "    <tr>\n",
       "      <th>10</th>\n",
       "      <td>Lesson 155</td>\n",
       "      <td>516</td>\n",
       "      <td>1393</td>\n",
       "      <td>36</td>\n",
       "    </tr>\n",
       "  </tbody>\n",
       "</table>\n",
       "</div>"
      ],
      "text/plain": [
       "        Lesson  Time   Pts  Place\n",
       "0     Lesson 7   183  1817      1\n",
       "1     Lesson 7   188  1757      2\n",
       "2   Lesson 183   277  1664      3\n",
       "3   Lesson 191   280  1657      4\n",
       "4   Lesson 191   288  1648      5\n",
       "5   Lesson 188   323  1604      6\n",
       "6   Lesson 189   335  1591      7\n",
       "7    Lesson 16   407  1577      8\n",
       "8     Lesson 6   405  1576      9\n",
       "9   Lesson 190   363  1571     10\n",
       "10  Lesson 155   516  1393     36"
      ]
     },
     "execution_count": 89,
     "metadata": {},
     "output_type": "execute_result"
    }
   ],
   "source": [
    "place(df)"
   ]
  },
  {
   "cell_type": "code",
   "execution_count": null,
   "id": "568e7b74",
   "metadata": {},
   "outputs": [],
   "source": [
    "        Lesson  Time   Pts  Place\n",
    "0     Lesson 7   183  1817      1\n",
    "1     Lesson 7   188  1757      2\n",
    "2   Lesson 183   277  1664      3\n",
    "3   Lesson 191   280  1657      4\n",
    "4   Lesson 191   288  1648      5\n",
    "5   Lesson 188   323  1604      6\n",
    "6   Lesson 189   335  1591      7\n",
    "7    Lesson 16   407  1577      8\n",
    "8     Lesson 6   405  1576      9\n",
    "9   Lesson 190   363  1571     10\n",
    "10  Lesson 192   374  1564     12"
   ]
  },
  {
   "cell_type": "code",
   "execution_count": 64,
   "id": "be1e6f34",
   "metadata": {},
   "outputs": [
    {
     "data": {
      "text/plain": [
       "190"
      ]
     },
     "execution_count": 64,
     "metadata": {},
     "output_type": "execute_result"
    }
   ],
   "source": [
    "last"
   ]
  },
  {
   "cell_type": "code",
   "execution_count": 47,
   "id": "ff275c5c",
   "metadata": {},
   "outputs": [
    {
     "data": {
      "text/html": [
       "<div>\n",
       "<style scoped>\n",
       "    .dataframe tbody tr th:only-of-type {\n",
       "        vertical-align: middle;\n",
       "    }\n",
       "\n",
       "    .dataframe tbody tr th {\n",
       "        vertical-align: top;\n",
       "    }\n",
       "\n",
       "    .dataframe thead th {\n",
       "        text-align: right;\n",
       "    }\n",
       "</style>\n",
       "<table border=\"1\" class=\"dataframe\">\n",
       "  <thead>\n",
       "    <tr style=\"text-align: right;\">\n",
       "      <th></th>\n",
       "      <th>Place</th>\n",
       "      <th>Lesson</th>\n",
       "      <th>Time</th>\n",
       "      <th>Pts</th>\n",
       "    </tr>\n",
       "  </thead>\n",
       "  <tbody>\n",
       "    <tr>\n",
       "      <th>0</th>\n",
       "      <td>1</td>\n",
       "      <td>Lesson 171</td>\n",
       "      <td>431</td>\n",
       "      <td>1550</td>\n",
       "    </tr>\n",
       "    <tr>\n",
       "      <th>1</th>\n",
       "      <td>2</td>\n",
       "      <td>Lesson 164</td>\n",
       "      <td>453</td>\n",
       "      <td>1538</td>\n",
       "    </tr>\n",
       "    <tr>\n",
       "      <th>2</th>\n",
       "      <td>3</td>\n",
       "      <td>Lesson 182</td>\n",
       "      <td>456</td>\n",
       "      <td>1531</td>\n",
       "    </tr>\n",
       "    <tr>\n",
       "      <th>3</th>\n",
       "      <td>171</td>\n",
       "      <td>Lesson 190</td>\n",
       "      <td>968</td>\n",
       "      <td>912</td>\n",
       "    </tr>\n",
       "  </tbody>\n",
       "</table>\n",
       "</div>"
      ],
      "text/plain": [
       "   Place      Lesson Time   Pts\n",
       "0      1  Lesson 171  431  1550\n",
       "1      2  Lesson 164  453  1538\n",
       "2      3  Lesson 182  456  1531\n",
       "3    171  Lesson 190  968   912"
      ]
     },
     "execution_count": 47,
     "metadata": {},
     "output_type": "execute_result"
    }
   ],
   "source": [
    "final_result"
   ]
  },
  {
   "cell_type": "code",
   "execution_count": 6,
   "id": "273f0419",
   "metadata": {},
   "outputs": [
    {
     "data": {
      "text/plain": [
       "250"
      ]
     },
     "execution_count": 6,
     "metadata": {},
     "output_type": "execute_result"
    }
   ],
   "source": [
    "place"
   ]
  },
  {
   "cell_type": "code",
   "execution_count": 24,
   "id": "38b16e66",
   "metadata": {},
   "outputs": [],
   "source": [
    "data = df.loc[:, 'lesson':]\n",
    "data = data[data['known'] != 25]\n",
    "data = data.loc[:,['r', 'time', 'points']]\n",
    "data = data.rename(columns={'r':'Lesson', 'time':'Time', 'points':'Pts'})\n",
    "data = data.sort_values(['Pts', 'Time'], ascending=[False, True])\n",
    "data['Lesson'] = data['Lesson'].astype(str)\n",
    "data['Lesson'] = 'Lesson ' +  data['Lesson']"
   ]
  },
  {
   "cell_type": "code",
   "execution_count": 27,
   "id": "7e65a517",
   "metadata": {},
   "outputs": [
    {
     "data": {
      "text/plain": [
       "['Lesson', 'Time', 'Pts']"
      ]
     },
     "execution_count": 27,
     "metadata": {},
     "output_type": "execute_result"
    }
   ],
   "source": [
    "list(data.columns)"
   ]
  },
  {
   "cell_type": "code",
   "execution_count": 1,
   "id": "f0c6102f",
   "metadata": {},
   "outputs": [
    {
     "ename": "SystemExit",
     "evalue": "0",
     "output_type": "error",
     "traceback": [
      "An exception has occurred, use %tb to see the full traceback.\n",
      "\u001b[0;31mSystemExit\u001b[0m\u001b[0;31m:\u001b[0m 0\n"
     ]
    },
    {
     "name": "stderr",
     "output_type": "stream",
     "text": [
      "/Users/aleksejgukov/opt/anaconda3/lib/python3.9/site-packages/IPython/core/interactiveshell.py:3377: UserWarning: To exit: use 'exit', 'quit', or Ctrl-D.\n",
      "  warn(\"To exit: use 'exit', 'quit', or Ctrl-D.\", stacklevel=1)\n"
     ]
    }
   ],
   "source": [
    "from PyQt6.QtWidgets import QApplication, QWidget, QTextEdit, QVBoxLayout\n",
    "from PyQt6.QtCore import Qt\n",
    "import sys\n",
    "\n",
    "class MyWidget(QWidget):\n",
    "    def __init__(self):\n",
    "        super().__init__()\n",
    "        self.text_edit = QTextEdit(self)\n",
    "        self.layout = QVBoxLayout(self)\n",
    "        self.layout.addWidget(self.text_edit)\n",
    "        self.setLayout(self.layout)\n",
    "    \n",
    "    def set_list(self, my_list):\n",
    "        text = \"\\n\".join(my_list)\n",
    "        self.text_edit.setPlainText(text)\n",
    "\n",
    "\n",
    "if __name__ == '__main__':\n",
    "    app = QApplication(sys.argv)\n",
    "    widget = MyWidget()\n",
    "    my_list = [\"Item 1\", \"Item 2\", \"Item 3\"]\n",
    "    widget.set_list(my_list)\n",
    "    widget.show()\n",
    "    sys.exit(app.exec())\n"
   ]
  },
  {
   "cell_type": "code",
   "execution_count": null,
   "id": "579abe08",
   "metadata": {},
   "outputs": [],
   "source": []
  }
 ],
 "metadata": {
  "kernelspec": {
   "display_name": "Python 3 (ipykernel)",
   "language": "python",
   "name": "python3"
  },
  "language_info": {
   "codemirror_mode": {
    "name": "ipython",
    "version": 3
   },
   "file_extension": ".py",
   "mimetype": "text/x-python",
   "name": "python",
   "nbconvert_exporter": "python",
   "pygments_lexer": "ipython3",
   "version": "3.9.12"
  }
 },
 "nbformat": 4,
 "nbformat_minor": 5
}
