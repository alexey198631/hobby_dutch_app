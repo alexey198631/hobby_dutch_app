{
 "cells": [
  {
   "cell_type": "code",
   "execution_count": null,
   "id": "e3aa1e6c",
   "metadata": {},
   "outputs": [],
   "source": [
    "\"\"\"Programm parses disctionary from the web-site:\n",
    "spanish source: f'https://www.lexicons.ru/modern/i/spanish/sp-rus-{letter}.html'\n",
    "dutch source: f'https://www.lexicons.ru/modern/g/dutch/hol-rus-{letter}.html'\n",
    "\n",
    "\"\"\"\n",
    "\n",
    "import requests\n",
    "from bs4 import BeautifulSoup\n",
    "import string\n",
    "import pandas as pd\n",
    "\n",
    "choice = input('What dictionary do I need? - type: dutch or spanish: ')\n",
    "\n",
    "letters = list(string.ascii_lowercase) #list of letters\n",
    "dictionary = {}\n",
    "\n",
    "for letter in letters:\n",
    "    if choice == 'dutch':\n",
    "        link = f'https://www.lexicons.ru/modern/g/dutch/hol-rus-{letter}.html'\n",
    "    elif choice == 'spanish':\n",
    "        link = f'https://www.lexicons.ru/modern/i/spanish/sp-rus-{letter}.html'\n",
    "    page = requests.get(link)\n",
    "    soup = BeautifulSoup(page.content,'html.parser')\n",
    "    field_of_words = soup.select('body > ul > li')\n",
    "    for i in range(len(field_of_words)):\n",
    "        t = field_of_words[i].text\n",
    "        word = t.split(':')[0].strip()\n",
    "        translation = t.split(':')[1].strip()\n",
    "        dictionary[word] = translation\n",
    "\n",
    "df = pd.DataFrame.from_dict(dictionary, orient = 'index')\n",
    "writer = pd.ExcelWriter(f'/Users/aleksejgukov/Desktop/{choice}_init.xlsx', engine='xlsxwriter')\n",
    "df.to_excel(writer, sheet_name=f'{choice}')\n",
    "writer.save()\n",
    "\n",
    "print(f'the Program created xlsx file and placed it on Desktop. Length of disction is {len(dictionary)}')"
   ]
  }
 ],
 "metadata": {
  "kernelspec": {
   "display_name": "Python 3 (ipykernel)",
   "language": "python",
   "name": "python3"
  },
  "language_info": {
   "codemirror_mode": {
    "name": "ipython",
    "version": 3
   },
   "file_extension": ".py",
   "mimetype": "text/x-python",
   "name": "python",
   "nbconvert_exporter": "python",
   "pygments_lexer": "ipython3",
   "version": "3.9.12"
  }
 },
 "nbformat": 4,
 "nbformat_minor": 5
}
