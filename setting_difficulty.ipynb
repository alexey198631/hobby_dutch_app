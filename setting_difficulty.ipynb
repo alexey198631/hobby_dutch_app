{
 "cells": [
  {
   "cell_type": "code",
   "execution_count": 132,
   "id": "fdc0a54d",
   "metadata": {},
   "outputs": [],
   "source": [
    "import pandas as pd\n",
    "import sqlite3\n",
    "from Levenshtein import distance\n",
    "from fuzzywuzzy import fuzz\n",
    "\n",
    "# connect to the SQLite database and read the data into a pandas dataframe\n",
    "conn = sqlite3.connect('data_files/words.db')\n",
    "df = pd.read_sql('SELECT * FROM words', conn)\n",
    "\n",
    "# close the database connection\n",
    "conn.close()"
   ]
  },
  {
   "cell_type": "code",
   "execution_count": 133,
   "id": "cb73705b",
   "metadata": {},
   "outputs": [],
   "source": [
    "#df['word'] = df['word'].str.split(',').str[0]\n",
    "df['Length_word'] = df['word'].str.len()\n",
    "df['translation'] = df['translation'].str.split(',').str[0]\n",
    "df['Length_translation'] = df['translation'].str.len()\n",
    "# Calculate Levenshtein Distance between word and translation\n",
    "#df['Distance'] = df.apply(lambda row: distance(row['word'], row['translation']), axis=1)\n",
    "df['Similarity'] = df.apply(lambda row: fuzz.ratio(row['word'], row['translation']), axis=1)"
   ]
  },
  {
   "cell_type": "code",
   "execution_count": 134,
   "id": "20fa45a7",
   "metadata": {},
   "outputs": [],
   "source": [
    "# Calculate word lengths and divide into three bins\n",
    "#df['Difficulty'] = pd.cut(df['Length'], bins=3, labels=['Easy', 'Medium', 'Hard'])"
   ]
  },
  {
   "cell_type": "code",
   "execution_count": 135,
   "id": "291515cb",
   "metadata": {},
   "outputs": [],
   "source": [
    "# dividing into three quantiles\n",
    "df['d1'] = pd.qcut(df['Length_word'], q=5, labels=[0, 1, 2, 3, 4])\n",
    "df['d1'] = df['d1'].astype(int)\n",
    "df['d2'] = pd.qcut(df['Length_translation'], q=3, labels=[0, 1, 2])\n",
    "df['d2'] = df['d2'].astype(int)\n",
    "df['d3'] = pd.qcut(df['Similarity'], q=5, labels=[4, 3, 2, 1, 0])\n",
    "df['d3'] = df['d3'].astype(int)"
   ]
  },
  {
   "cell_type": "code",
   "execution_count": 136,
   "id": "114a9c5c",
   "metadata": {},
   "outputs": [],
   "source": [
    "df['difficulty'] = df['d1'] + df['d2'] + df['d3']\n",
    "#df.loc[df['Similarity'] >= 80, 'difficulty'] = 0\n",
    "\n",
    "df = df.loc[:, ['word', 'type', 'translation', 'example', 'example_translation',\n",
    "       'russian', 'appear', 'trial_d', 'trial_r', 'success', 'weight', 'Similarity', 'difficulty', 'd1', 'd2', 'd3']]"
   ]
  },
  {
   "cell_type": "code",
   "execution_count": 137,
   "id": "9c26b062",
   "metadata": {},
   "outputs": [],
   "source": [
    "writer = pd.ExcelWriter('data_files/test.xlsx')\n",
    "df.to_excel(writer, sheet_name='update')\n",
    "writer.close()"
   ]
  },
  {
   "cell_type": "code",
   "execution_count": 138,
   "id": "83fddef6",
   "metadata": {},
   "outputs": [],
   "source": [
    "conn2 = sqlite3.connect('data_files/lessons.db')\n",
    "lesson = pd.read_sql('SELECT * FROM lessons', conn2)\n",
    "conn2.close()"
   ]
  },
  {
   "cell_type": "code",
   "execution_count": 139,
   "id": "6c91a9d8",
   "metadata": {},
   "outputs": [],
   "source": [
    "lesson_df = lesson[lesson['known'] != 25]\n",
    "lesson_df = lesson_df.loc[:, ['r', 'list_of_words', 'points']]\n"
   ]
  },
  {
   "cell_type": "code",
   "execution_count": 140,
   "id": "7fc4c257",
   "metadata": {
    "scrolled": true
   },
   "outputs": [],
   "source": [
    "# Create a sample difficulty DataFrame\n",
    "difficulty_df = df.loc[:,['word', 'difficulty']]\n",
    "\n",
    "# Split 'list of words' column and retrieve difficulties\n",
    "lesson_df['words'] = lesson_df['list_of_words'].str.split(';')\n",
    "lesson_df['words'] = lesson_df['words'].apply(lambda x: [word.strip() for word in x])\n",
    "lesson_df['dif'] = lesson_df['words'].apply(lambda x: sum(difficulty_df[difficulty_df['word'].isin(x)]['difficulty']))"
   ]
  },
  {
   "cell_type": "code",
   "execution_count": 141,
   "id": "f7697fb6",
   "metadata": {},
   "outputs": [],
   "source": [
    "# Remove the intermediate 'words' column\n",
    "lesson_df.drop('words', axis=1, inplace=True)"
   ]
  },
  {
   "cell_type": "code",
   "execution_count": 142,
   "id": "72761333",
   "metadata": {},
   "outputs": [],
   "source": [
    "writer = pd.ExcelWriter('data_files/test_check.xlsx')\n",
    "lesson_df.to_excel(writer, sheet_name='update')\n",
    "writer.close()"
   ]
  },
  {
   "cell_type": "code",
   "execution_count": 143,
   "id": "5743b972",
   "metadata": {},
   "outputs": [],
   "source": [
    "# Add a unique key column based on index\n",
    "df['key'] = df.index\n",
    "\n",
    "# Define the desired distribution of words by difficulty\n",
    "difficulty_distribution_easy = {1: 4, 2: 4, 3: 4, 4: 4, 5: 4, 6:2, 7:1, 8:1 , 9:1, 10:0}\n",
    "difficulty_distribution = {1: 2, 2: 2, 3: 3, 4: 3, 5: 3, 6: 3, 7:3, 8:2 ,9:2, 10:2 }\n",
    "difficulty_distribution_hard = {1: 0, 2: 1, 3: 1, 4: 1, 5: 2, 6: 4, 7:4, 8:4 ,9:4, 10:4 }\n",
    "difficulty_distribution_hardest = {1: 0, 2: 0, 3: 0, 4: 0, 5: 0, 6: 5, 7:5, 8:5 ,9:5, 10:5 }\n",
    "\n",
    "# Sample words from each difficulty level based on difficulty and weight\n",
    "selected_words = []\n",
    "for difficulty, count in difficulty_distribution.items():\n",
    "    words_subset = df[(df['difficulty'] == difficulty)]\n",
    "    words_subset = words_subset.sample(n=count, weights=words_subset['weight'])\n",
    "    selected_words.append(words_subset)\n",
    "    \n",
    "# Concatenate the selected words into a new DataFrame\n",
    "new_words_df = pd.concat(selected_words)\n",
    "\n",
    "writer = pd.ExcelWriter('data_files/new.xlsx')\n",
    "new_words_df.to_excel(writer, sheet_name='update')\n",
    "writer.close()"
   ]
  },
  {
   "cell_type": "code",
   "execution_count": 122,
   "id": "1c57d2e5",
   "metadata": {},
   "outputs": [],
   "source": [
    "# Reset the index of the new DataFrame\n",
    "new_words_df.reset_index(drop=True, inplace=True)\n",
    "\n",
    "# Update the parameters of the selected words\n",
    "new_words_df['weight'] = new_words_df['weight'] * 2  # Update the weight parameter as an example\n",
    "\n",
    "# Merge the updated words with the original DataFrame based on the key column\n",
    "df = pd.merge(df, new_words_df, on='key', how='left')\n",
    "\n",
    "# Fill missing values in the original DataFrame with the updated values\n",
    "df['difficulty_y'].fillna(df['difficulty_x'], inplace=True)\n",
    "df['weight_y'].fillna(df['weight_x'], inplace=True)\n",
    "\n",
    "# Drop redundant columns from the merged DataFrame\n",
    "df.drop(['difficulty_x', 'weight_x', 'key'], axis=1, inplace=True)\n",
    "df.rename(columns={'difficulty_y': 'difficulty', 'weight_y': 'weight'}, inplace=True)\n",
    "\n",
    "writer = pd.ExcelWriter('data_files/final.xlsx')\n",
    "df.to_excel(writer, sheet_name='update')\n",
    "writer.close()"
   ]
  },
  {
   "cell_type": "code",
   "execution_count": null,
   "id": "b97ccafd",
   "metadata": {},
   "outputs": [],
   "source": []
  }
 ],
 "metadata": {
  "kernelspec": {
   "display_name": "Python 3 (ipykernel)",
   "language": "python",
   "name": "python3"
  },
  "language_info": {
   "codemirror_mode": {
    "name": "ipython",
    "version": 3
   },
   "file_extension": ".py",
   "mimetype": "text/x-python",
   "name": "python",
   "nbconvert_exporter": "python",
   "pygments_lexer": "ipython3",
   "version": "3.9.12"
  }
 },
 "nbformat": 4,
 "nbformat_minor": 5
}
