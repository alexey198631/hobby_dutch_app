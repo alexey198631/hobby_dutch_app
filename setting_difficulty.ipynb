{
 "cells": [
  {
   "cell_type": "code",
   "execution_count": 280,
   "id": "fdc0a54d",
   "metadata": {},
   "outputs": [],
   "source": [
    "import pandas as pd\n",
    "import sqlite3\n",
    "from Levenshtein import distance\n",
    "from fuzzywuzzy import fuzz\n",
    "\n",
    "# connect to the SQLite database and read the data into a pandas dataframe\n",
    "conn = sqlite3.connect('data_files/words.db')\n",
    "df = pd.read_sql('SELECT * FROM words', conn)\n",
    "\n",
    "# close the database connection\n",
    "conn.close()"
   ]
  },
  {
   "cell_type": "code",
   "execution_count": 259,
   "id": "5ecc9eac",
   "metadata": {},
   "outputs": [
    {
     "data": {
      "text/plain": [
       "Index(['word', 'type', 'translation', 'example', 'example_translation',\n",
       "       'russian', 'appear', 'trial_d', 'trial_r', 'success', 'weight',\n",
       "       'word_index', 'difficulty', 'wd'],\n",
       "      dtype='object')"
      ]
     },
     "execution_count": 259,
     "metadata": {},
     "output_type": "execute_result"
    }
   ],
   "source": [
    "df.columns"
   ]
  },
  {
   "cell_type": "code",
   "execution_count": 261,
   "id": "ba3f2d8a",
   "metadata": {},
   "outputs": [],
   "source": [
    "df = df.drop(columns=['difficulty', 'wd'])"
   ]
  },
  {
   "cell_type": "code",
   "execution_count": 262,
   "id": "d133e310",
   "metadata": {},
   "outputs": [],
   "source": [
    "columns = list(df.columns)\n",
    "\n",
    "df['Length_word'] = df['word'].str.len()\n",
    "df['translation'] = df['translation'].str.split(',').str[0]\n",
    "df['Length_translation'] = df['translation'].str.len()\n",
    "# Calculate Levenshtein Distance between word and translation\n",
    "df['Similarity'] = df.apply(lambda row: fuzz.ratio(row['word'], row['translation']), axis=1)\n",
    "    \n",
    "# dividing into quantiles\n",
    "df['d1'] = pd.qcut(df['Length_word'], q=4, labels=[0, 1, 2, 3])\n",
    "df['d1'] = df['d1'].astype(int)\n",
    "df['d2'] = pd.qcut(df['Length_translation'], q=3, labels=[0, 1, 2])\n",
    "df['d2'] = df['d2'].astype(int)\n",
    "df['d3'] = pd.qcut(df['Similarity'], q=5, labels=[4, 3, 2, 1, 0])\n",
    "df['d3'] = df['d3'].astype(int)\n",
    "df['d4'] = pd.cut(df['weight'], bins=3, labels=[1, 2, 3])\n",
    "df['d4'] = df['d4'].astype(int)\n",
    "\n",
    "df['difficulty'] = df['d1'] + df['d2'] + df['d3']\n",
    "df['wd'] = df['d1'] + df['d2'] + df['d3'] + df['d4']\n",
    "\n",
    "columns = columns + ['difficulty', 'wd']\n",
    "\n",
    "df = df.loc[:, columns]"
   ]
  },
  {
   "cell_type": "code",
   "execution_count": 263,
   "id": "d488d3eb",
   "metadata": {},
   "outputs": [
    {
     "data": {
      "text/plain": [
       "array([ 3,  1,  7,  4,  6,  5,  2,  8,  9, 10, 11, 12])"
      ]
     },
     "execution_count": 263,
     "metadata": {},
     "output_type": "execute_result"
    }
   ],
   "source": [
    "df['wd'].unique()"
   ]
  },
  {
   "cell_type": "code",
   "execution_count": 264,
   "id": "a012bd0d",
   "metadata": {},
   "outputs": [],
   "source": [
    "def xlstosql(df):\n",
    "    df_name = df.name\n",
    "    # connect to the SQLite database\n",
    "    conn = sqlite3.connect(f'data_files/{df_name}.db')\n",
    "    # insert the data from the dataframe into the database table\n",
    "    df.to_sql(f'{df_name}', conn, if_exists='replace', index=False)\n",
    "    # close the database connection\n",
    "    conn.close()"
   ]
  },
  {
   "cell_type": "code",
   "execution_count": 265,
   "id": "58d43a34",
   "metadata": {},
   "outputs": [],
   "source": [
    "df.name = 'words'\n",
    "xlstosql(df)"
   ]
  },
  {
   "cell_type": "code",
   "execution_count": 213,
   "id": "79580184",
   "metadata": {},
   "outputs": [],
   "source": [
    "dif_df = df.loc[:, ['word_index', 'difficulty']]"
   ]
  },
  {
   "cell_type": "code",
   "execution_count": null,
   "id": "2884a752",
   "metadata": {},
   "outputs": [],
   "source": [
    "conn = sqlite3.connect('data_files/words.db')\n",
    "cursor = conn.cursor()\n",
    "\n",
    "cursor.execute(\"ALTER TABLE words ADD COLUMN word_index INTEGER\")\n",
    "\n",
    "cursor.execute(\"SELECT rowid FROM words\")\n",
    "rows = cursor.fetchall()\n",
    "\n",
    "for i, row in enumerate(rows, start=1):\n",
    "    cursor.execute(\"UPDATE words SET word_index = ? WHERE rowid = ?\", (i, row[0]))\n",
    "conn.commit()\n",
    "\n",
    "# Сохранение изменений и закрытие соединения\n",
    "conn.close()"
   ]
  },
  {
   "cell_type": "code",
   "execution_count": 237,
   "id": "ee2e225a",
   "metadata": {},
   "outputs": [],
   "source": [
    "def difficulty(df, level='standard'):\n",
    "    \n",
    "    columns = list(df.columns)\n",
    "    \n",
    "    df['Length_word'] = df['word'].str.len()\n",
    "    df['translation'] = df['translation'].str.split(',').str[0]\n",
    "    df['Length_translation'] = df['translation'].str.len()\n",
    "    # Calculate Levenshtein Distance between word and translation\n",
    "    df['Similarity'] = df.apply(lambda row: fuzz.ratio(row['word'], row['translation']), axis=1)\n",
    "    \n",
    "    # dividing into quantiles\n",
    "    df['d1'] = pd.qcut(df['Length_word'], q=4, labels=[0, 1, 2, 3])\n",
    "    df['d1'] = df['d1'].astype(int)\n",
    "    df['d2'] = pd.qcut(df['Length_translation'], q=3, labels=[0, 1, 2])\n",
    "    df['d2'] = df['d2'].astype(int)\n",
    "    df['d3'] = pd.qcut(df['Similarity'], q=5, labels=[4, 3, 2, 1, 0])\n",
    "    df['d3'] = df['d3'].astype(int)\n",
    "    df['d4'] = pd.qcut(df['weight'], bins=3, labels=[1, 2, 3], duplicates='drop')\n",
    "    df['d4'] = df['d4'].astype(int)\n",
    "    \n",
    "    df['difficulty'] = df['d1'] + df['d2'] + df['d3'] + df['d4']\n",
    "    \n",
    "    \n",
    "    \n",
    "    df = df.loc[:, columns]\n",
    "    return df\n"
   ]
  },
  {
   "cell_type": "code",
   "execution_count": 198,
   "id": "20fa45a7",
   "metadata": {},
   "outputs": [],
   "source": [
    "# Calculate word lengths and divide into three bins\n",
    "#df['Difficulty'] = pd.cut(df['Length'], bins=3, labels=['Easy', 'Medium', 'Hard'])"
   ]
  },
  {
   "cell_type": "code",
   "execution_count": 228,
   "id": "e3381cf3",
   "metadata": {},
   "outputs": [],
   "source": [
    "test_list = []\n",
    "\n",
    "for i in range(0,101):\n",
    "    test_list.append(i)"
   ]
  },
  {
   "cell_type": "code",
   "execution_count": 229,
   "id": "22fe7ad4",
   "metadata": {},
   "outputs": [],
   "source": [
    "tt=pd.DataFrame()\n",
    "tt['count'] = test_list\n"
   ]
  },
  {
   "cell_type": "code",
   "execution_count": 230,
   "id": "992229d0",
   "metadata": {},
   "outputs": [],
   "source": [
    "tt['dif'] = pd.cut(test_list, bins=3, labels=['Easy', 'Medium', 'Hard'])"
   ]
  },
  {
   "cell_type": "code",
   "execution_count": 266,
   "id": "bdcf437d",
   "metadata": {},
   "outputs": [],
   "source": [
    "writer = pd.ExcelWriter('data_files/tdddt.xlsx')\n",
    "df.to_excel(writer, sheet_name='update')\n",
    "writer.close()"
   ]
  },
  {
   "cell_type": "code",
   "execution_count": 138,
   "id": "83fddef6",
   "metadata": {},
   "outputs": [],
   "source": [
    "conn2 = sqlite3.connect('data_files/lessons.db')\n",
    "lesson = pd.read_sql('SELECT * FROM lessons', conn2)\n",
    "conn2.close()"
   ]
  },
  {
   "cell_type": "code",
   "execution_count": 139,
   "id": "e936c5cd",
   "metadata": {},
   "outputs": [],
   "source": [
    "lesson_df = lesson[lesson['known'] != 25]\n",
    "lesson_df = lesson_df.loc[:, ['r', 'list_of_words', 'points']]"
   ]
  },
  {
   "cell_type": "code",
   "execution_count": 140,
   "id": "49d3f895",
   "metadata": {
    "scrolled": true
   },
   "outputs": [],
   "source": [
    "# Create a sample difficulty DataFrame\n",
    "difficulty_df = df.loc[:,['word', 'difficulty']]\n",
    "\n",
    "# Split 'list of words' column and retrieve difficulties\n",
    "lesson_df['words'] = lesson_df['list_of_words'].str.split(';')\n",
    "lesson_df['words'] = lesson_df['words'].apply(lambda x: [word.strip() for word in x])\n",
    "lesson_df['dif'] = lesson_df['words'].apply(lambda x: sum(difficulty_df[difficulty_df['word'].isin(x)]['difficulty']))"
   ]
  },
  {
   "cell_type": "code",
   "execution_count": 141,
   "id": "7707e941",
   "metadata": {},
   "outputs": [],
   "source": [
    "# Remove the intermediate 'words' column\n",
    "lesson_df.drop('words', axis=1, inplace=True)"
   ]
  },
  {
   "cell_type": "code",
   "execution_count": 142,
   "id": "e5c1e2d8",
   "metadata": {},
   "outputs": [],
   "source": [
    "writer = pd.ExcelWriter('data_files/test_check.xlsx')\n",
    "lesson_df.to_excel(writer, sheet_name='update')\n",
    "writer.close()"
   ]
  },
  {
   "cell_type": "code",
   "execution_count": 143,
   "id": "9d2d9797",
   "metadata": {},
   "outputs": [],
   "source": [
    "# Add a unique key column based on index\n",
    "df['key'] = df.index\n",
    "\n",
    "# Define the desired distribution of words by difficulty\n",
    "difficulty_distribution_easy = {1: 4, 2: 4, 3: 4, 4: 4, 5: 4, 6:2, 7:1, 8:1 , 9:1, 10:0}\n",
    "difficulty_distribution = {1: 2, 2: 2, 3: 3, 4: 3, 5: 3, 6: 3, 7:3, 8:2 ,9:2, 10:2 }\n",
    "difficulty_distribution_hard = {1: 0, 2: 1, 3: 1, 4: 1, 5: 2, 6: 4, 7:4, 8:4 ,9:4, 10:4 }\n",
    "difficulty_distribution_hardest = {1: 0, 2: 0, 3: 0, 4: 0, 5: 0, 6: 5, 7:5, 8:5 ,9:5, 10:5 }\n",
    "\n",
    "# Sample words from each difficulty level based on difficulty and weight\n",
    "selected_words = []\n",
    "for difficulty, count in difficulty_distribution.items():\n",
    "    words_subset = df[(df['wb'] == difficulty)]\n",
    "    words_subset = words_subset.sample(n=count, weights=words_subset['weight'])\n",
    "    selected_words.append(words_subset)\n",
    "    \n",
    "# Concatenate the selected words into a new DataFrame\n",
    "new_words_df = pd.concat(selected_words)\n",
    "\n",
    "writer = pd.ExcelWriter('data_files/new.xlsx')\n",
    "new_words_df.to_excel(writer, sheet_name='update')\n",
    "writer.close()"
   ]
  },
  {
   "cell_type": "code",
   "execution_count": 122,
   "id": "8f17419c",
   "metadata": {},
   "outputs": [],
   "source": [
    "# Reset the index of the new DataFrame\n",
    "new_words_df.reset_index(drop=True, inplace=True)\n",
    "\n",
    "# Update the parameters of the selected words\n",
    "new_words_df['weight'] = new_words_df['weight'] * 2  # Update the weight parameter as an example\n",
    "\n",
    "# Merge the updated words with the original DataFrame based on the key column\n",
    "df = pd.merge(df, new_words_df, on='key', how='left')\n",
    "\n",
    "# Fill missing values in the original DataFrame with the updated values\n",
    "df['difficulty_y'].fillna(df['difficulty_x'], inplace=True)\n",
    "df['weight_y'].fillna(df['weight_x'], inplace=True)\n",
    "\n",
    "# Drop redundant columns from the merged DataFrame\n",
    "df.drop(['difficulty_x', 'weight_x', 'key'], axis=1, inplace=True)\n",
    "df.rename(columns={'difficulty_y': 'difficulty', 'weight_y': 'weight'}, inplace=True)\n",
    "\n",
    "writer = pd.ExcelWriter('data_files/final.xlsx')\n",
    "df.to_excel(writer, sheet_name='update')\n",
    "writer.close()"
   ]
  },
  {
   "cell_type": "code",
   "execution_count": 274,
   "id": "410a5b64",
   "metadata": {},
   "outputs": [
    {
     "data": {
      "text/plain": [
       "'word, type, translation, example, example_translation, russian, appear, trial_d, trial_r, success, weight, word_index, difficulty, wd'"
      ]
     },
     "execution_count": 274,
     "metadata": {},
     "output_type": "execute_result"
    }
   ],
   "source": [
    "', '.join(list(df.columns))"
   ]
  },
  {
   "cell_type": "code",
   "execution_count": 305,
   "id": "2c9cbe56",
   "metadata": {},
   "outputs": [
    {
     "name": "stdout",
     "output_type": "stream",
     "text": [
      "Word: skiën, Translation: skiing, Weight: 33.33, Difficulty: 1\n",
      "Word: robot, Translation: robot, Weight: 50.0, Difficulty: 2\n",
      "Word: mijl, Translation: mile, Weight: 100.0, Difficulty: 3\n",
      "Word: minuut, Translation: minute, Weight: 100.0, Difficulty: 3\n",
      "Word: methode, Translation: method, Weight: 100.0, Difficulty: 4\n",
      "Word: liegen, Translation: to lie, Weight: 100.0, Difficulty: 4\n",
      "Word: goederen, Translation: goods, Weight: 100.0, Difficulty: 5\n",
      "Word: printer, Translation: printer, Weight: 100.0, Difficulty: 5\n",
      "Word: verstand, Translation: head, Weight: 100.0, Difficulty: 5\n",
      "Word: daar, Translation: there, Weight: 100.0, Difficulty: 6\n",
      "Word: aanvoerder, Translation: leader, Weight: 100.0, Difficulty: 6\n",
      "Word: identiteit, Translation: identity, Weight: 100.0, Difficulty: 6\n",
      "Word: lijk, Translation: corpse, Weight: 100.0, Difficulty: 7\n",
      "Word: heelal, Translation: universe, Weight: 100.0, Difficulty: 7\n",
      "Word: minderjarig, Translation: underage, Weight: 100.0, Difficulty: 7\n",
      "Word: slijter, Translation: liquor store [owner], Weight: 100.0, Difficulty: 8\n",
      "Word: belabberd, Translation: terrible, Weight: 100.0, Difficulty: 8\n",
      "Word: mijzelf, mezelf, Translation: myself, Weight: 100.0, Difficulty: 8\n",
      "Word: intrekken, Translation: to retract, Weight: 100.0, Difficulty: 9\n",
      "Word: schildpad, Translation: turtle, Weight: 100.0, Difficulty: 9\n",
      "Word: stedelijk, Translation: urban, Weight: 100.0, Difficulty: 9\n",
      "Word: voldoende, Translation: sufficient, Weight: 100.0, Difficulty: 10\n",
      "Word: aanleggen, Translation: to build, Weight: 100.0, Difficulty: 10\n",
      "Word: bijgevolg, Translation: as a consequence, Weight: 100.0, Difficulty: 11\n",
      "Word: vernietigen, Translation: to destroy, Weight: 100.0, Difficulty: 12\n"
     ]
    }
   ],
   "source": [
    "import sqlite3\n",
    "import random\n",
    "\n",
    "difficulty_distribution = {1: 1, 2: 1, 3: 2, 4: 2, 5: 3, 6: 3, 7: 3, 8: 3, 9: 3, 10: 2, 11: 1, 12: 1}\n",
    "\n",
    "def sql_text(dffty, limit):\n",
    "    text = f\"\"\"\n",
    "    SELECT word, type, translation, russian, example, example_translation, appear, trial_d, trial_r, success, weight, word_index, difficulty, wd\n",
    "    FROM words\n",
    "    WHERE wd = {dffty}\n",
    "    ORDER BY weight DESC, RANDOM()\n",
    "    LIMIT {limit};\n",
    "    \"\"\"\n",
    "    return text\n",
    "\n",
    "def loadData(source, final='no'):\n",
    "    # connect to the SQLite database and read the data into a pandas dataframe\n",
    "    conn = sqlite3.connect('data_files/words.db')\n",
    "    \n",
    "    \n",
    "    if source == 'word' and final == 'no':\n",
    "        cursor = conn.cursor()\n",
    "        # Sample words from each difficulty level based on difficulty and weight\n",
    "        selected_words = []\n",
    "        for difficulty, count in difficulty_distribution.items():\n",
    "            # Retrieve 5 easy words\n",
    "            words_query = sql_text(difficulty, count)\n",
    "            cursor.execute(words_query)\n",
    "            selected_words = selected_words + cursor.fetchall()\n",
    "        return selected_words\n",
    "    else:\n",
    "        df = pd.read_sql(f'SELECT * FROM {source}s', conn)\n",
    "        df = df.loc[:, f'{source}':]\n",
    "        \n",
    "    # close the database connection\n",
    "    conn.close()\n",
    "    \n",
    "\n",
    "combined_data = loadData('word')\n",
    "\n",
    "    \n",
    "class Words(object):\n",
    "\n",
    "    \"\"\"The class for all words from dictionary. Each word a type, a translation, an example,\n",
    "    a translation of an example, a translation to Russian, also additional parameters which would be created after\n",
    "    the first run (quantity of appearances in lessons, trials of direct and indirect translation,\n",
    "    success attempts, also weight, more weight - more often words appear\"\"\"\n",
    "\n",
    "    def __init__(self, word, typ, translation, russian, example, example_translation, appear, trial_d, trial_r, success,\n",
    "                 weight, word_index, difficulty, wd):\n",
    "        self.word = word\n",
    "        self.typ = typ\n",
    "        self.translation = translation\n",
    "        self.example = example\n",
    "        self.example_translation = example_translation\n",
    "        self.russian = russian\n",
    "        self.appear = appear\n",
    "        self.trial_d = trial_d\n",
    "        self.trial_r = trial_r\n",
    "        self.success = success\n",
    "        self.weight = weight\n",
    "        self.word_index = word_index\n",
    "        self.difficulty = difficulty\n",
    "        self.wd = wd\n",
    "\n",
    "\n",
    "# Create Word objects from the combined data\n",
    "word_objects = []\n",
    "for row in combined_data:\n",
    "    word = Words(*row)\n",
    "    word_objects.append(word)\n",
    "\n",
    "# Print the created Word objects\n",
    "for word in word_objects:\n",
    "    print(f\"Word: {word.word}, Translation: {word.translation}, Weight: {word.weight}, Difficulty: {word.wd}\")\n"
   ]
  },
  {
   "cell_type": "code",
   "execution_count": 291,
   "id": "22fe73cc",
   "metadata": {},
   "outputs": [
    {
     "name": "stdout",
     "output_type": "stream",
     "text": [
      "\n",
      "Easy Words:\n",
      "('robot', 'noun', 'robot', None, None, 'робот', 1, 2, 2, 2, 50.0, 7905, 0, 2)\n",
      "('dubbel', 'adj', 'double', 'De dubbele plaatjes ruilde hij op school met andere verzamelaars.', 'He traded the duplicate plates at school with other collectors.', 'двойной', 2, 3, 5, 4, 50.0, 800, 0, 2)\n",
      "('hoer', 'noun, de(f)', 'whore', 'Dit was de buurt van dronkenlappen, matrozen en hoeren.', 'This was the neighborhood of drunks, sailors and whores.', 'шлюха', 2, 2, 5, 4, 42.86, 1512, 0, 2)\n",
      "('moslim', 'noun, de(m)', 'Muslim', 'Christenen, moslims, joden en boeddhisten deden afgelopen zaterdag mee aan de bijeenkomst.', 'Christians, Muslims, Jews and Buddhists participated in the meeting last Saturday.', 'мусульманин', 2, 3, 4, 4, 42.86, 2432, 0, 2)\n",
      "('elleboog', 'noun, de(m)', 'elbow', 'Hij plantte zijn elleboog op zijn dij en liet zijn hoofd op zijn gebalde vuist rusten.', 'He planted his elbow on his thigh and rested his head on his clenched fist.', 'локоть', 3, 3, 6, 6, 33.33, 1410, 1, 2)\n",
      "('raaf', 'de', 'raven', None, None, 'ворон', 1, 1, 2, 2, 33.33, 6644, 1, 2)\n",
      "('soms', 'adv', 'sometimes', 'Soms gaat het niet zoals je wilt.', \"Sometimes things don't go your way.\", 'иногда', 1, 2, 1, 2, 33.33, 244, 1, 2)\n",
      "('riet', 'het', 'reed', None, None, 'рид, кейн', 1, 1, 2, 2, 33.33, 6123, 1, 2)\n",
      "('zetel', 'noun, de(m)', 'seat', 'Hij zat in een comfortabele zetel.', 'He sat in a comfortable seat.', 'сиденье', 1, 1, 2, 2, 33.33, 3499, 1, 2)\n",
      "('stilte', 'noun, de(f)', 'silence', 'Er heerste een volkomen stilte.', 'There was a complete silence.', 'тишина', 3, 3, 6, 6, 33.33, 965, 1, 2)\n",
      "('ijzer', 'noun, het', 'iron', 'Het zijn constructies in hout of ijzer die je laat begroeien door klimplanten.', 'They are structures in wood or iron that you allow to be overgrown by climbing plants.', 'утюг', 1, 1, 2, 2, 33.33, 5122, 1, 2)\n",
      "('sinds', 'prep', 'since', 'Haar cliënt had geen gemakkelijke tijd gehad sinds haar behandeling begon.', 'Her client had not had an easy time since her treatment began.', 'поскольку', 1, 1, 2, 2, 33.33, 196, 1, 2)\n",
      "('katoen', 'het', 'cotton', None, None, 'хлопок', 1, 1, 2, 2, 33.33, 5761, 1, 2)\n",
      "('modder', 'noun, de(m)', 'mud', 'Hij rolde als een varken door de modder.', 'He rolled like a pig through the mud.', 'грязь', 1, 1, 2, 2, 33.33, 1783, 1, 2)\n",
      "('beurt', 'noun, de', 'turn', 'De leerlingen voeren om de beurt een opdracht uit.', 'Students take turns performing a task.', 'повернуть', 1, 2, 1, 2, 33.33, 835, 1, 2)\n",
      "\n",
      "Standard Words:\n",
      "('list', 'de', 'ploy', None, None, 'плохая, стратагем', 0, 0, 0, 0, 100.0, 6326, 3, 6)\n",
      "('overdag', 'adv', 'by day', 'Alles was bij na net zo helder als overdag.', 'Everything was nearly as clear as during the day.', 'днем', 0, 0, 0, 0, 100.0, 3933, 3, 6)\n",
      "('eraf', 'adv', 'off', 'Uiteindelijk schoor ze bij na al haar haar eraf en had ze alleen nog een hanenkam over.', 'In the end, she shaved off almost all her hair and was left with only a cockscomb.', 'выключенный', 0, 0, 0, 0, 100.0, 1720, 3, 6)\n",
      "('kou', 'noun, de(f)', 'cold', 'Vanwege de kou mochten de kinderen tussen de middag niet naar huis.', 'Because of the cold, the children were not allowed to go home at noon.', 'холодный', 0, 0, 0, 0, 100.0, 1381, 3, 6)\n",
      "('krom', 'adj', 'crooked', 'Ik teken het huis met wat kromme lijnen.', 'I draw the house with some crooked lines.', 'кривые, изогнутые', 0, 0, 0, 0, 100.0, 1951, 3, 6)\n",
      "('na', 'prep', 'after', 'Meteen na het eten ging hij weg.', 'Immediately after eating, he left.', 'после', 0, 0, 0, 0, 100.0, 62, 3, 6)\n",
      "('zowel', 'adv', 'both', 'De rechter acht zowel diefstal als bedreiging bewezen.', 'The judge found both theft and threats proven.', 'обе', 0, 0, 0, 0, 100.0, 339, 3, 6)\n",
      "('treden', 'verb', 'to step', 'Hij trad naar voren.', 'He stepped forward.', 'шагать', 0, 0, 0, 0, 100.0, 3202, 3, 6)\n",
      "('keren', 'verb', 'to turn', 'De auto keerde aan het einde van de straat.', 'The car turned at the end of the street.', 'повернуть', 0, 0, 0, 0, 100.0, 626, 3, 6)\n",
      "('geografie', 'noun, de(f)', 'geography', 'De geografie beschrijft de aarde, zowel wat natuurlijke als wat menselijke factoren betreft.', 'Geography describes the earth in terms of both natural and human factors.', 'география', 0, 0, 0, 0, 100.0, 3123, 3, 6)\n",
      "('matroos', 'de', 'sailor', None, None, 'моряк', 0, 0, 0, 0, 100.0, 6388, 3, 6)\n",
      "('valkuil', 'de', 'pitfall', None, None, 'ловушка', 0, 0, 0, 0, 100.0, 5734, 3, 6)\n",
      "('bonken', None, 'to bang', None, None, 'чтобы ударить, ударить', 0, 0, 0, 0, 100.0, 5239, 3, 6)\n",
      "('directeur', 'noun, de(m)', 'director', 'De directeur gaf alle medewerkers de rest van de dag vrij.', 'The director gave all employees the rest of the day off.', 'директор', 0, 0, 0, 0, 100.0, 576, 3, 6)\n",
      "('spreek', 'verb', 'pronounce', None, None, 'произносить', 0, 0, 0, 0, 100.0, 7946, 3, 6)\n",
      "('culturele', None, 'cultural', None, None, 'культурный', 0, 0, 0, 0, 100.0, 5457, 3, 6)\n",
      "('knal', 'noun, de(m)', 'bang', 'Een knal is een hard geluid dat over het algemeen ontstaat bij een explosie.', 'A bang is a loud sound generally produced by an explosion.', 'хлопнуть', 0, 0, 0, 0, 100.0, 5144, 3, 6)\n",
      "('hoor', 'interj', 'you know', 'Ja, nee, dat valt mee hoor.', \"Yes, no, that's not too bad.\", 'ты знаешь', 0, 0, 0, 0, 100.0, 2982, 3, 6)\n",
      "('papa', 'noun, de(m)', 'daddy', 'Het was haar papa helemaal niet die ze bij de hand had gepakt.', \"It wasn't her daddy at all she had grabbed by the hand.\", 'папочка', 0, 0, 0, 0, 100.0, 3558, 3, 6)\n",
      "('potentieel', 'adjective noun', 'potential', None, None, 'потенциал', 0, 0, 0, 0, 100.0, 7885, 3, 6)\n",
      "\n",
      "Hard Words:\n",
      "('vaderland', 'noun, het', '(native) country', 'Hij speelde graag voor zijn vaderland.', 'He loved playing for his homeland.', '(родная страна', 0, 0, 0, 0, 100.0, 4854, 7, 10)\n",
      "('buitenbeentje', 'het', 'outsider', None, None, 'посторонний, несоответствующий', 0, 0, 0, 0, 100.0, 6957, 7, 10)\n",
      "('onenigheid', 'de', 'disagreement', None, None, 'разногласия', 0, 0, 0, 0, 100.0, 5948, 7, 10)\n",
      "('slagroom', 'de', 'whipped cream', None, None, 'взбитые сливки', 0, 0, 0, 0, 100.0, 8479, 7, 10)\n",
      "('napraten', None, 'to say the same (as someone else)', None, None, 'сказать то же самое (как кто -то другой)', 0, 0, 0, 0, 100.0, 7051, 7, 10)\n"
     ]
    }
   ],
   "source": [
    "def sql_text(dffty, limit):\n",
    "    text = f\"\"\"\n",
    "    SELECT word, type, translation, russian, example, example_translation, appear, trial_d, trial_r, success, weight, word_index, difficulty, wd\n",
    "    FROM words\n",
    "    WHERE wd = {dffty}\n",
    "    ORDER BY weight DESC, RANDOM()\n",
    "    LIMIT {limit};\n",
    "    \"\"\"\n",
    "    return text\n",
    "\n",
    "\n",
    "# connect to the SQLite database and read the data into a pandas dataframe\n",
    "conn = sqlite3.connect('data_files/words.db')\n",
    "cursor = conn.cursor()\n",
    "\n",
    "# Retrieve 5 easy words\n",
    "easy_words_query = sql_text(2, 15)\n",
    "cursor.execute(easy_words_query)\n",
    "easy_words = cursor.fetchall()\n",
    "\n",
    "# Retrieve 5 standard words\n",
    "standard_words_query = sql_text(6, 20)\n",
    "cursor.execute(standard_words_query)\n",
    "standard_words = cursor.fetchall()\n",
    "\n",
    "# Retrieve 5 hard words\n",
    "hard_words_query = sql_text(10, 5)\n",
    "cursor.execute(hard_words_query)\n",
    "hard_words = cursor.fetchall()\n",
    "\n",
    "# Close the database connection\n",
    "conn.close()\n",
    "\n",
    "# Print the retrieved words\n",
    "\n",
    "print(\"\\nEasy Words:\")\n",
    "for row in easy_words:\n",
    "    print(row)\n",
    "\n",
    "print(\"\\nStandard Words:\")\n",
    "for row in standard_words:\n",
    "    print(row)\n",
    "\n",
    "print(\"\\nHard Words:\")\n",
    "for row in hard_words:\n",
    "    print(row)"
   ]
  },
  {
   "cell_type": "code",
   "execution_count": 292,
   "id": "e0c112dc",
   "metadata": {},
   "outputs": [],
   "source": [
    "\n",
    "text = \"\"\"\n",
    "    SELECT weight, word_index, wd\n",
    "    FROM words\n",
    "    \"\"\"\n",
    "\n",
    "# connect to the SQLite database and read the data into a pandas dataframe\n",
    "conn = sqlite3.connect('data_files/words.db')\n",
    "cursor = conn.cursor()\n",
    "\n",
    "# Retrieve 5 easy words\n",
    "easy_words_query = text\n",
    "cursor.execute(easy_words_query)\n",
    "easy_words = cursor.fetchall()\n",
    "\n",
    "# Close the database connection\n",
    "conn.close()"
   ]
  },
  {
   "cell_type": "code",
   "execution_count": 295,
   "id": "1bb8654c",
   "metadata": {},
   "outputs": [
    {
     "data": {
      "text/plain": [
       "(0.0, 2, 3)"
      ]
     },
     "execution_count": 295,
     "metadata": {},
     "output_type": "execute_result"
    }
   ],
   "source": [
    "easy_words[1]"
   ]
  },
  {
   "cell_type": "code",
   "execution_count": 306,
   "id": "032ecd61",
   "metadata": {},
   "outputs": [],
   "source": [
    "conn = sqlite3.connect('data_files/words.db')\n",
    "cursor = conn.cursor()\n",
    "\n",
    "v1 = 100\n",
    "v2 = 100\n",
    "v3 = 100\n",
    "v4 = 100\n",
    "v5 = 100\n",
    "\n",
    "cursor.execute(\"UPDATE words SET appear = ?, trial_d = ?, trial_r = ?, success = ?, wd = ?  WHERE word_index = ?\",\n",
    "            (v1, v2, v3, v4, v5, 1))\n",
    "\n",
    "    # Commit the changes and close the connection\n",
    "conn.commit()\n",
    "conn.close()"
   ]
  },
  {
   "cell_type": "code",
   "execution_count": 311,
   "id": "8ccd96a6",
   "metadata": {},
   "outputs": [],
   "source": [
    "text = \"\"\"\n",
    "\n",
    "UPDATE words\n",
    "SET weight = \n",
    "             CASE\n",
    "                WHEN trial_d = 0 AND trial_r = 0 THEN ROUND(100, 2)\n",
    "                ELSE ROUND((100 - (success / (trial_d + trial_r)) * 100), 2)\n",
    "             END;\n",
    "\"\"\"\n",
    "\n",
    "conn = sqlite3.connect('data_files/words.db')\n",
    "cursor = conn.cursor()\n",
    "\n",
    "cursor.execute(text)\n",
    "conn.commit()\n",
    "conn.close()"
   ]
  },
  {
   "cell_type": "code",
   "execution_count": 329,
   "id": "377eefea",
   "metadata": {},
   "outputs": [],
   "source": [
    "text = \"\"\"\n",
    "\n",
    "UPDATE words\n",
    "SET weight = \n",
    "    CASE\n",
    "        WHEN trial_d = 0 AND trial_r = 0 THEN ROUND(100, 2)\n",
    "        ELSE ROUND((100 - success * 100 /(trial_d + trial_r)), 2)\n",
    "    END;\n",
    "\"\"\"\n",
    "\n",
    "conn = sqlite3.connect('data_files/words.db')\n",
    "cursor = conn.cursor()\n",
    "\n",
    "cursor.execute(text)\n",
    "conn.commit()\n",
    "conn.close()"
   ]
  },
  {
   "cell_type": "code",
   "execution_count": 332,
   "id": "647340e8",
   "metadata": {},
   "outputs": [],
   "source": [
    "conn = sqlite3.connect('data_files/lessons.db')\n",
    "cursor = conn.cursor()\n",
    "\n",
    "cursor.execute(\"SELECT lesson FROM lessons WHERE lesson IS NOT NULL ORDER BY lesson DESC LIMIT 1\")\n",
    "last_lesson = cursor.fetchone()[0]\n",
    "l1 = last_lesson + 1\n",
    "l2 = 0\n",
    "l3 = 0\n",
    "l4 = 0\n",
    "l5 = 0\n",
    "l6 = 0\n",
    "l7 = 0\n",
    "l8 = 0\n",
    "l9 = 0\n",
    "l10 = 0\n",
    "    \n",
    "cols = 'lesson, start, inter, finish, known, points, length, time, list_of_words, r'\n",
    "\n",
    "cursor.execute(f\"INSERT INTO lessons ({cols}) VALUES (?,?,?,?,?,?,?,?,?,?)\", (l1,l2,l3,l4,l5,l6,l7,l8,l9,l10))\n",
    "\n",
    "conn.commit()\n",
    "conn.close()"
   ]
  },
  {
   "cell_type": "code",
   "execution_count": null,
   "id": "68b6c54a",
   "metadata": {},
   "outputs": [],
   "source": []
  }
 ],
 "metadata": {
  "kernelspec": {
   "display_name": "Python 3 (ipykernel)",
   "language": "python",
   "name": "python3"
  },
  "language_info": {
   "codemirror_mode": {
    "name": "ipython",
    "version": 3
   },
   "file_extension": ".py",
   "mimetype": "text/x-python",
   "name": "python",
   "nbconvert_exporter": "python",
   "pygments_lexer": "ipython3",
   "version": "3.9.12"
  }
 },
 "nbformat": 4,
 "nbformat_minor": 5
}
