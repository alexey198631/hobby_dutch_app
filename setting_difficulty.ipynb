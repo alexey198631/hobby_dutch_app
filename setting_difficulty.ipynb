{
 "cells": [
  {
   "cell_type": "code",
   "execution_count": 7,
   "id": "fdc0a54d",
   "metadata": {},
   "outputs": [],
   "source": [
    "import pandas as pd\n",
    "import sqlite3\n",
    "from Levenshtein import distance\n",
    "\n",
    "# connect to the SQLite database and read the data into a pandas dataframe\n",
    "conn = sqlite3.connect('data_files/words.db')\n",
    "df = pd.read_sql('SELECT * FROM words', conn)\n",
    "\n",
    "# close the database connection\n",
    "conn.close()"
   ]
  },
  {
   "cell_type": "code",
   "execution_count": 2,
   "id": "cb73705b",
   "metadata": {},
   "outputs": [],
   "source": [
    "df['Length_word'] = df['word'].str.len()\n",
    "df['Length_translation'] = df['translation'].str.len()\n",
    "# Calculate Levenshtein Distance between word and translation\n",
    "df['Distance'] = df.apply(lambda row: distance(row['word'], row['translation']), axis=1)"
   ]
  },
  {
   "cell_type": "code",
   "execution_count": 3,
   "id": "20fa45a7",
   "metadata": {},
   "outputs": [],
   "source": [
    "# Calculate word lengths and divide into three bins\n",
    "#df['Difficulty'] = pd.cut(df['Length'], bins=3, labels=['Easy', 'Medium', 'Hard'])"
   ]
  },
  {
   "cell_type": "code",
   "execution_count": 4,
   "id": "291515cb",
   "metadata": {},
   "outputs": [],
   "source": [
    "# dividing into three quantiles\n",
    "df['d1'] = pd.qcut(df['Length_word'], q=3, labels=[0, 1, 2])\n",
    "df['d1'] = df['d1'].astype(int)\n",
    "df['d2'] = pd.qcut(df['Length_translation'], q=3, labels=[0, 1, 2])\n",
    "df['d2'] = df['d2'].astype(int)\n",
    "df['d3'] = pd.qcut(df['Distance'], q=3, labels=[0, 1, 2])\n",
    "df['d3'] = df['d3'].astype(int)"
   ]
  },
  {
   "cell_type": "code",
   "execution_count": 5,
   "id": "114a9c5c",
   "metadata": {},
   "outputs": [],
   "source": [
    "df['difficulty'] = df['d1'] + df['d2'] + df['d3']\n",
    "df.loc[df['Distance'] == 0, 'difficulty'] = 0\n",
    "\n",
    "df = df.loc[:, ['word', 'type', 'translation', 'example', 'example_translation',\n",
    "       'russian', 'appear', 'trial_d', 'trial_r', 'success', 'weight', 'difficulty']]"
   ]
  },
  {
   "cell_type": "code",
   "execution_count": 6,
   "id": "9c26b062",
   "metadata": {},
   "outputs": [],
   "source": [
    "writer = pd.ExcelWriter('data_files/xxxxx.xlsx')\n",
    "df.to_excel(writer, sheet_name='update')\n",
    "writer.close()"
   ]
  },
  {
   "cell_type": "code",
   "execution_count": 9,
   "id": "fa470e9e",
   "metadata": {},
   "outputs": [],
   "source": [
    "from fuzzywuzzy import fuzz\n",
    "\n",
    "# Calculate similarity between word and translation using fuzzywuzzy\n",
    "df['Similarity'] = df.apply(lambda row: fuzz.ratio(row['word'], row['translation']), axis=1)\n",
    "df['Distance'] = df.apply(lambda row: distance(row['word'], row['translation']), axis=1)\n",
    "\n",
    "writer = pd.ExcelWriter('data_files/xx2.xlsx')\n",
    "df.to_excel(writer, sheet_name='update')\n",
    "writer.close()"
   ]
  },
  {
   "cell_type": "code",
   "execution_count": null,
   "id": "83fddef6",
   "metadata": {},
   "outputs": [],
   "source": []
  }
 ],
 "metadata": {
  "kernelspec": {
   "display_name": "Python 3 (ipykernel)",
   "language": "python",
   "name": "python3"
  },
  "language_info": {
   "codemirror_mode": {
    "name": "ipython",
    "version": 3
   },
   "file_extension": ".py",
   "mimetype": "text/x-python",
   "name": "python",
   "nbconvert_exporter": "python",
   "pygments_lexer": "ipython3",
   "version": "3.9.12"
  }
 },
 "nbformat": 4,
 "nbformat_minor": 5
}
