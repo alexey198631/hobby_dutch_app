{
 "cells": [
  {
   "cell_type": "code",
   "execution_count": 1,
   "id": "24127521",
   "metadata": {},
   "outputs": [],
   "source": [
    "#initial\n",
    "\n",
    "import pandas as pd\n",
    "import random\n",
    "import time\n",
    "import matplotlib.pyplot as plt\n",
    "from datetime import datetime\n",
    "\n",
    "words = pd.read_excel('/Users/aleksejgukov/Desktop/dutch.xlsx',sheet_name='update')\n",
    "words = words.loc[:,'word':]\n",
    "lesson = pd.read_excel('/Users/aleksejgukov/Desktop/dutch.xlsx',sheet_name='lesson')\n",
    "lesson = lesson.loc[:,'lesson':]"
   ]
  },
  {
   "cell_type": "code",
   "execution_count": 23,
   "id": "e40e8fef",
   "metadata": {},
   "outputs": [],
   "source": [
    "import math"
   ]
  },
  {
   "cell_type": "code",
   "execution_count": 59,
   "id": "d0ca8f62",
   "metadata": {},
   "outputs": [],
   "source": [
    "#classes\n",
    "\n",
    "class Words(object):\n",
    "    def __init__(self, word, typ, translation, russian, example, example_translation, appear, trial_d, trial_r, success, weight):\n",
    "        self.word = word\n",
    "        self.typ = typ\n",
    "        self.translation = translation\n",
    "        self.example = example\n",
    "        self.example_translation = example_translation\n",
    "        self.russian = russian\n",
    "        self.appear = appear\n",
    "        self.trial_d = trial_d\n",
    "        self.trial_r = trial_r\n",
    "        self.success = success\n",
    "        self.weight = weight\n",
    "            \n",
    "    def getTyp(self):\n",
    "        return self.typ\n",
    "    \n",
    "    def getRussian(self):\n",
    "        return self.russian\n",
    "    \n",
    "    def getExample(self):\n",
    "        return self.example\n",
    "    \n",
    "    def changeType(self,new):\n",
    "        self.typ = new\n",
    "    \n",
    "    def getTrials_d(self):\n",
    "        return self.trial_d\n",
    "    \n",
    "    def getTrials_r(self):\n",
    "        return self.trial_r\n",
    "    \n",
    "    def addTrials_d(self):\n",
    "        self.trial_d += 1\n",
    "        \n",
    "    def addTrials_r(self):\n",
    "        self.trial_r += 1\n",
    "    \n",
    "    def getAppear(self):\n",
    "        return self.appear\n",
    "    \n",
    "    def addAppear(self):\n",
    "        self.appear += 1\n",
    "        return self.appear\n",
    "       \n",
    "    def addSuccess(self):\n",
    "        self.success += 1\n",
    "        return self.success   \n",
    "    \n",
    "    def getSuccess(self):\n",
    "        return self.success\n",
    "    \n",
    "    def getWord(self):\n",
    "        return self.word\n",
    "    \n",
    "    def getTranslation(self):\n",
    "        return self.translation\n",
    "    \n",
    "    def getWeight(self):\n",
    "        if self.trial_d == 0 and self.trial_r == 0:\n",
    "            return self.weight\n",
    "        else: \n",
    "            return 100 - (self.success/ (self.trial_d + self.trial_r)) * 100\n",
    "        \n",
    "    \n",
    "    def __len__(self):\n",
    "        return len(f'{self.word} -> {self.translation}')\n",
    "    \n",
    "    def __repr__(self):\n",
    "        return f'{self.word}: {self.getTranslation()} , {self.getExample()}'\n",
    "    \n",
    "    def __str__(self):\n",
    "        return f'{self.word} : {self.translation}'\n",
    "    \n",
    "    \n",
    "class Lesson(object):\n",
    "    def __init__(self, number):\n",
    "        self.number = number\n",
    "    def getNumber(self):\n",
    "        return self.number\n",
    "    def start(self, start):\n",
    "        self.start = start\n",
    "    def getStart(self):\n",
    "        return self.start\n",
    "    def inter(self, inter):\n",
    "        self.inter = inter\n",
    "    def getInter(self):\n",
    "        return self.inter\n",
    "    def finish(self, finish):\n",
    "        self.finish = finish\n",
    "    def getFinish(self):\n",
    "        return self.finish\n",
    "    def number_of_easy(self,easy):\n",
    "        self.easy = easy\n",
    "    def getNumber_of_easy(self):\n",
    "        return self.easy\n",
    "    def points(self, pts):\n",
    "        self.pts = pts\n",
    "    def add_pts(self, a_pts):\n",
    "        self.pts += a_pts\n",
    "    def getPoints(self):\n",
    "        return self.pts + 1500 - int((self.finish - self.start).seconds)\n",
    "    def wlist(self,list_of_words):\n",
    "        self.list_of_words = list_of_words\n",
    "    def getList(self):\n",
    "        return self.list_of_words\n",
    "    def length_of_lesson(self,lol):\n",
    "        self.lol = lol\n",
    "    def getLength_of_lesson(self):\n",
    "        return self.lol"
   ]
  },
  {
   "cell_type": "code",
   "execution_count": 60,
   "id": "bf77b6d1",
   "metadata": {},
   "outputs": [],
   "source": [
    "#defs\n",
    "\n",
    "def loadWords(df_words, temp):\n",
    "    wordList = []\n",
    "    for i in range (len(words)):\n",
    "        if temp == 'yes':\n",
    "            wordList.append(Words(words.iloc[i,0],words.iloc[i,1],words.iloc[i,2],words.iloc[i,5], words.iloc[i,3],words.iloc[i,4],words.iloc[i,6],words.iloc[i,7],words.iloc[i,8],words.iloc[i,9],words.iloc[i,10]))\n",
    "        else:\n",
    "            wordList.append(Words(words.iloc[i,0],words.iloc[i,1],words.iloc[i,2],words.iloc[i,5], words.iloc[i,3],words.iloc[i,4],0,0,0,0, 100))       \n",
    "    return wordList\n",
    "\n",
    "\n",
    "def no_space(word):\n",
    "    lst = []\n",
    "    for w in word:\n",
    "        lst.append(w.strip())\n",
    "    return lst\n",
    "\n",
    "\n",
    "def translation_with_comma(translation):\n",
    "    try:\n",
    "        translation = translation.split(',')\n",
    "        translation = no_space(translation)\n",
    "        return translation\n",
    "    \n",
    "    except:\n",
    "        return [translation]\n",
    "    \n",
    "def help_for_guess(word, r): #r - number of letters\n",
    "    list_of_word = list(word)\n",
    "    copy = list_of_word.copy()\n",
    "    for j in range(len(list_of_word)):\n",
    "        if list_of_word[j] == ' ':\n",
    "            copy.remove(list_of_word[j])\n",
    "    \n",
    "    l = random.sample(copy, k = r)\n",
    "    \n",
    "    for i in range(len(list_of_word)):\n",
    "        if list_of_word[i] in l:\n",
    "            list_of_word[i] = list_of_word[i]\n",
    "        else:\n",
    "            list_of_word[i] = '_'      \n",
    "    back = ' '.join(list_of_word)\n",
    "    \n",
    "    return back\n",
    "\n",
    "\n",
    "def rightword(word,translation,rever=0):\n",
    "    point_counter = 0\n",
    "    if rever == 1:\n",
    "        b = 0\n",
    "        while b == 0:\n",
    "            x = input(f'[à ë ï é]\\n\\nPress \"1\",\"2\",\"3\" to open 1, 2, 3 letters in the word\\n\\n {translation}: ')\n",
    "            if x == word:\n",
    "                b = 1\n",
    "                return [True, point_counter]\n",
    "            elif x == '1' or x == '2' or x == '3':\n",
    "                print(help_for_guess(word, int(x)))\n",
    "                point_counter += int(x)\n",
    "            else:\n",
    "                return [False, point_counter]\n",
    "                b = 1\n",
    "    elif rever == 0:\n",
    "        b = 0\n",
    "        translation = translation_with_comma(translation)\n",
    "        while b == 0:\n",
    "            x = input(f'[à ë ï é]\\n\\nPress \"1\",\"2\",\"3\" to open 1, 2, 3 letters in the word\\n\\n {word}: ')\n",
    "            if x in translation:\n",
    "                b = 1\n",
    "                return [True, point_counter]\n",
    "            elif x == '1' or x == '2' or x == '3':\n",
    "                print(help_for_guess(translation[0], int(x)))\n",
    "                point_counter += int(x)\n",
    "            else:\n",
    "                b = 1\n",
    "                return [False, point_counter]\n",
    "    \n",
    "\n",
    "def the_longest(sample_of_words):\n",
    "    mx = 0\n",
    "    for i in sample_of_words:\n",
    "        if len(i) > mx:\n",
    "            mx = len(i)\n",
    "    return mx\n",
    "\n",
    "\n",
    "def cycle(sample_of_words, rever):\n",
    "    p = 250 \n",
    "    s = sample_of_words.copy()\n",
    "    while len(s) > 0:\n",
    "        random.shuffle(s)\n",
    "        lst_to_delete = []\n",
    "        for i in s:\n",
    "            temp = rightword(i.getWord(),i.getTranslation(),rever)\n",
    "            if temp[0]:\n",
    "                print(\"It's right!\")\n",
    "                p = p - temp[1]\n",
    "                print(temp[1], p)\n",
    "                i.addSuccess()\n",
    "                if rever == 0:\n",
    "                    i.addTrials_d()\n",
    "                else:\n",
    "                    i.addTrials_r()\n",
    "                lst_to_delete.append(i)\n",
    "            else:\n",
    "                print(\"Shame on you!\")\n",
    "                p = p - temp[1]\n",
    "                p -= 1\n",
    "                print(p)\n",
    "                if rever == 0:\n",
    "                    i.addTrials_d()\n",
    "                else:\n",
    "                    i.addTrials_r()            \n",
    "        if len(lst_to_delete) > 0:\n",
    "            for w in lst_to_delete:\n",
    "                s.remove(w)\n",
    "            if len(s) != 0:\n",
    "                plotting(s)\n",
    "        else:\n",
    "            if len(s) != 0:\n",
    "                plotting(s)\n",
    "            \n",
    "            \n",
    "    return p\n",
    "\n",
    "def list_to_list(lst):\n",
    "    st = ''\n",
    "    for w in lst:\n",
    "        st = st + w + '; '\n",
    "    st.strip()       \n",
    "    st = st[0:(len(st)-2)]\n",
    "    return st\n",
    "\n",
    "def lessonLenght(list_of_words):\n",
    "    lessonLenght = 0\n",
    "    for w in list_of_words:\n",
    "        temp = w.getWord()\n",
    "        temp = temp.replace(' ','')\n",
    "        lessonLenght += len(temp)\n",
    "    return lessonLenght\n",
    "\n",
    "def random_sample(list_of_words, n):\n",
    "    sample = random.choices(list_of_words, weights = [w.getWeight() for w in list_of_words], k = n )\n",
    "    l = len(sample)\n",
    "    st = 0\n",
    "    count = 0\n",
    "    while l != st:\n",
    "        st = len(set(sample))\n",
    "        sample = random.choices(list_of_words, weights = [w.getWeight() for w in list_of_words], k = n )\n",
    "        count += 1\n",
    "    print(count)\n",
    "    \n",
    "    return sample"
   ]
  },
  {
   "cell_type": "code",
   "execution_count": 61,
   "id": "b913190c",
   "metadata": {},
   "outputs": [
    {
     "name": "stdout",
     "output_type": "stream",
     "text": [
      "1\n"
     ]
    }
   ],
   "source": [
    "#object creation\n",
    "exist = 'yes'\n",
    "wordList = loadWords(words,exist)\n",
    "sample = random_sample(wordList,25)   "
   ]
  },
  {
   "cell_type": "code",
   "execution_count": 62,
   "id": "67965d2a",
   "metadata": {},
   "outputs": [
    {
     "data": {
      "text/plain": [
       "[het zeilen: sailing , nan,\n",
       " mineur: minor , nan,\n",
       " maarja: but then , Zij had toen een vaste vriend, maarja die kerel was haar niet waard.,\n",
       " favoriete: favourite , nan,\n",
       " iedere: every , nan,\n",
       " eekhoorn: squirrel , nan,\n",
       " gegeven: fact, data , Uitgebreid onderzoek bracht geen nieuwe gegevens aan het licht.,\n",
       " notulen: minutes of a meeting , nan,\n",
       " zanger: singer , Het is een misvatting dat iedere zanger ook componist en tekstdichter is van het door hem vertolkte lied.,\n",
       " ideaal: ideal , Het leek haar een ideale omgeving om te werken.,\n",
       " voorspellen: to predict , Zij had de overwinning al voorspeld.,\n",
       " krankzinnig: insane , We hebben een krankzinnig gesprek gehad.,\n",
       " van harte: congratulations , nan,\n",
       " kunstenaar: artist , De kamers hangen vol met werk van bevriende kunstenaars.,\n",
       " navel: navel , nan,\n",
       " gebaren: to gesture , Ze zei niets en gebaarde dat hij haar moest volgen.,\n",
       " kortsluiting: shortcircuit , nan,\n",
       " opeens: suddenly , Hij kwam opeens binnen.,\n",
       " zonder: without , Er werden in enkele gevallen etenswaren zonder vergunning verkocht.,\n",
       " weergave: reproduction , nan,\n",
       " aanvankelijk: initial , Al snel was ze haar aanvankelijke angst kwijt en begon ze zelfs aardigheid in het rijden te krijgen.,\n",
       " boef: crook, bad guy , nan,\n",
       " aanvraag: application , De aanvraag voor de vergunning werd afgewezen.,\n",
       " italië: Italy , nan,\n",
       " zelfbeheersing: self-control , nan]"
      ]
     },
     "execution_count": 62,
     "metadata": {},
     "output_type": "execute_result"
    }
   ],
   "source": [
    "sample"
   ]
  },
  {
   "cell_type": "code",
   "execution_count": 63,
   "id": "7800b827",
   "metadata": {},
   "outputs": [
    {
     "name": "stdout",
     "output_type": "stream",
     "text": [
      "italië : Italy\n"
     ]
    }
   ],
   "source": [
    "print(sample[23])"
   ]
  },
  {
   "cell_type": "code",
   "execution_count": 28,
   "id": "6fa02c0a",
   "metadata": {},
   "outputs": [],
   "source": [
    "x = sample[23].getExample()\n",
    "#math.isnan(x)"
   ]
  },
  {
   "cell_type": "code",
   "execution_count": 29,
   "id": "1d293f73",
   "metadata": {},
   "outputs": [
    {
     "data": {
      "text/plain": [
       "'nan : nan'"
      ]
     },
     "execution_count": 29,
     "metadata": {},
     "output_type": "execute_result"
    }
   ],
   "source": [
    "x"
   ]
  },
  {
   "cell_type": "code",
   "execution_count": 51,
   "id": "eeba99ca",
   "metadata": {},
   "outputs": [
    {
     "data": {
      "text/plain": [
       "[hoodfkwartier: headquarters , nan,\n",
       " naar verhouding: relatively , nan,\n",
       " bevinding: finding , nan,\n",
       " gazon: lawn , nan,\n",
       " net: net , De dolfijn raakte verstrikt in de netten van de vissers.,\n",
       " visum: visa , nan,\n",
       " inspiratie: inspiration , Hij mist inspiratie en creativiteit om zelf iets te ontwerpen.,\n",
       " middelbare school: secondary school , nan,\n",
       " waarna: after which , We kregen nog ijs, waarna we afsloten met koffie.,\n",
       " wonen: to live , Bovendien hebben we toffe buren en dat maakt het des te leuker om hier te wonen.,\n",
       " uitgaan van: assume , nan,\n",
       " ellende: misery , Veel mensen vrezen dat er nog meer ellende in het verschiet ligt.,\n",
       " dergelijk: such , Ik heb nooit eerder van dergelijke zaken gehoord.,\n",
       " vlotter: float , nan,\n",
       " liever: rather , Ik zou liever zelf met hem meegaan.,\n",
       " werkdag: working day , De werken zullen 125 werkdagen in beslag nemen.,\n",
       " tik: tap , Nu stapte hij onverhoeds binnen na een stevige tik op de deur.,\n",
       " ventilator: fan , nan,\n",
       " veulen: foal , nan,\n",
       " brandstof: fuel , Vooral de autosector had te lijden onder de dure brandstof,\n",
       " lullig: silly , Hij maakte een lullige opmerking.,\n",
       " flauwekul: nonsense , nan,\n",
       " koek: cake , nan,\n",
       " griekenland: Greece , nan,\n",
       " vrijdag: Friday , Hij diende vrijdag met koorts het bed te houden.]"
      ]
     },
     "execution_count": 51,
     "metadata": {},
     "output_type": "execute_result"
    }
   ],
   "source": [
    "sample"
   ]
  },
  {
   "cell_type": "code",
   "execution_count": 64,
   "id": "a4842a50",
   "metadata": {},
   "outputs": [
    {
     "name": "stdout",
     "output_type": "stream",
     "text": [
      "Zij had toen een vaste vriend, maarja die kerel was haar niet waard.\n",
      "Uitgebreid onderzoek bracht geen nieuwe gegevens aan het licht.\n",
      "Het is een misvatting dat iedere zanger ook componist en tekstdichter is van het door hem vertolkte lied.\n",
      "Het leek haar een ideale omgeving om te werken.\n",
      "Zij had de overwinning al voorspeld.\n",
      "We hebben een krankzinnig gesprek gehad.\n",
      "De kamers hangen vol met werk van bevriende kunstenaars.\n",
      "Ze zei niets en gebaarde dat hij haar moest volgen.\n",
      "Hij kwam opeens binnen.\n",
      "Er werden in enkele gevallen etenswaren zonder vergunning verkocht.\n",
      "Al snel was ze haar aanvankelijke angst kwijt en begon ze zelfs aardigheid in het rijden te krijgen.\n",
      "De aanvraag voor de vergunning werd afgewezen.\n"
     ]
    }
   ],
   "source": [
    "for w in sample:\n",
    "    try:\n",
    "        math.isnan(w.getExample())\n",
    "    except:\n",
    "        print(w.getExample())"
   ]
  },
  {
   "cell_type": "code",
   "execution_count": 76,
   "id": "9be73d32",
   "metadata": {},
   "outputs": [
    {
     "name": "stdout",
     "output_type": "stream",
     "text": [
      "noun het zeilen : sailing\n",
      "adjective mineur : minor\n",
      "interj maarja : but then\n",
      "adjective, noun favoriete : favourite\n",
      "de eekhoorn : squirrel\n",
      "noun, het gegeven : fact, data\n",
      "de notulen : minutes of a meeting\n",
      "noun, de(m) zanger : singer\n",
      "adj ideaal : ideal\n",
      "verb voorspellen : to predict\n",
      "adj krankzinnig : insane\n",
      "noun, de(m) kunstenaar : artist\n",
      "de navel : navel\n",
      "verb gebaren : to gesture\n",
      "de kortsluiting : shortcircuit\n",
      "adv opeens : suddenly\n",
      "prep zonder : without\n",
      "de weergave : reproduction\n",
      "adj aanvankelijk : initial\n",
      "de boef : crook, bad guy\n",
      "noun, de aanvraag : application\n",
      "de zelfbeheersing : self-control\n",
      "iedere : every\n",
      "van harte : congratulations\n",
      "italië : Italy\n"
     ]
    }
   ],
   "source": [
    "temp = []\n",
    "for w in sample: \n",
    "    try:\n",
    "        math.isnan(w.getTyp())\n",
    "        temp.append(w)\n",
    "    except:\n",
    "        print(w.getTyp(), w)\n",
    "for t in temp:\n",
    "    print(t)"
   ]
  },
  {
   "cell_type": "code",
   "execution_count": 73,
   "id": "a52e2206",
   "metadata": {},
   "outputs": [
    {
     "data": {
      "text/plain": [
       "3"
      ]
     },
     "execution_count": 73,
     "metadata": {},
     "output_type": "execute_result"
    }
   ],
   "source": [
    "len(temp)"
   ]
  },
  {
   "cell_type": "code",
   "execution_count": 74,
   "id": "5c2ced95",
   "metadata": {},
   "outputs": [
    {
     "data": {
      "text/plain": [
       "[iedere: every , nan, van harte: congratulations , nan, italië: Italy , nan]"
      ]
     },
     "execution_count": 74,
     "metadata": {},
     "output_type": "execute_result"
    }
   ],
   "source": [
    "temp"
   ]
  },
  {
   "cell_type": "code",
   "execution_count": null,
   "id": "e3532268",
   "metadata": {},
   "outputs": [],
   "source": []
  }
 ],
 "metadata": {
  "kernelspec": {
   "display_name": "Python 3 (ipykernel)",
   "language": "python",
   "name": "python3"
  },
  "language_info": {
   "codemirror_mode": {
    "name": "ipython",
    "version": 3
   },
   "file_extension": ".py",
   "mimetype": "text/x-python",
   "name": "python",
   "nbconvert_exporter": "python",
   "pygments_lexer": "ipython3",
   "version": "3.9.12"
  }
 },
 "nbformat": 4,
 "nbformat_minor": 5
}
